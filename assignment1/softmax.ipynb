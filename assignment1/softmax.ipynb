{
 "cells": [
  {
   "cell_type": "markdown",
   "metadata": {},
   "source": [
    "# Softmax exercise\n",
    "\n",
    "*Complete and hand in this completed worksheet (including its outputs and any supporting code outside of the worksheet) with your assignment submission. For more details see the [assignments page](http://vision.stanford.edu/teaching/cs231n/assignments.html) on the course website.*\n",
    "\n",
    "This exercise is analogous to the SVM exercise. You will:\n",
    "\n",
    "- implement a fully-vectorized **loss function** for the Softmax classifier\n",
    "- implement the fully-vectorized expression for its **analytic gradient**\n",
    "- **check your implementation** with numerical gradient\n",
    "- use a validation set to **tune the learning rate and regularization** strength\n",
    "- **optimize** the loss function with **SGD**\n",
    "- **visualize** the final learned weights\n"
   ]
  },
  {
   "cell_type": "code",
   "execution_count": 2,
   "metadata": {},
   "outputs": [
    {
     "name": "stdout",
     "output_type": "stream",
     "text": [
      "The autoreload extension is already loaded. To reload it, use:\n",
      "  %reload_ext autoreload\n",
      "/home/shariq/Desktop/assignment1\r\n"
     ]
    }
   ],
   "source": [
    "import random\n",
    "import numpy as np\n",
    "from cs231n.data_utils import load_CIFAR10\n",
    "import matplotlib.pyplot as plt\n",
    "\n",
    "from __future__ import print_function\n",
    "\n",
    "%matplotlib inline\n",
    "plt.rcParams['figure.figsize'] = (10.0, 8.0) # set default size of plots\n",
    "plt.rcParams['image.interpolation'] = 'nearest'\n",
    "plt.rcParams['image.cmap'] = 'gray'\n",
    "\n",
    "# for auto-reloading extenrnal modules\n",
    "# see http://stackoverflow.com/questions/1907993/autoreload-of-modules-in-ipython\n",
    "%load_ext autoreload\n",
    "%autoreload 2"
   ]
  },
  {
   "cell_type": "code",
   "execution_count": 3,
   "metadata": {},
   "outputs": [
    {
     "name": "stdout",
     "output_type": "stream",
     "text": [
      "Train data shape:  (49000, 3073)\n",
      "Train labels shape:  (49000,)\n",
      "Validation data shape:  (1000, 3073)\n",
      "Validation labels shape:  (1000,)\n",
      "Test data shape:  (1000, 3073)\n",
      "Test labels shape:  (1000,)\n",
      "dev data shape:  (500, 3073)\n",
      "dev labels shape:  (500,)\n"
     ]
    }
   ],
   "source": [
    "def get_CIFAR10_data(num_training=49000, num_validation=1000, num_test=1000, num_dev=500):\n",
    "    \"\"\"\n",
    "    Load the CIFAR-10 dataset from disk and perform preprocessing to prepare\n",
    "    it for the linear classifier. These are the same steps as we used for the\n",
    "    SVM, but condensed to a single function.  \n",
    "    \"\"\"\n",
    "    # Load the raw CIFAR-10 data\n",
    "    cifar10_dir = 'cs231n/datasets/cifar-10-batches-py'\n",
    "    X_train, y_train, X_test, y_test = load_CIFAR10(cifar10_dir)\n",
    "    \n",
    "    # subsample the data\n",
    "    mask = list(range(num_training, num_training + num_validation))\n",
    "    X_val = X_train[mask]\n",
    "    y_val = y_train[mask]\n",
    "    mask = list(range(num_training))\n",
    "    X_train = X_train[mask]\n",
    "    y_train = y_train[mask]\n",
    "    mask = list(range(num_test))\n",
    "    X_test = X_test[mask]\n",
    "    y_test = y_test[mask]\n",
    "    mask = np.random.choice(num_training, num_dev, replace=False)\n",
    "    X_dev = X_train[mask]\n",
    "    y_dev = y_train[mask]\n",
    "    \n",
    "    # Preprocessing: reshape the image data into rows\n",
    "    X_train = np.reshape(X_train, (X_train.shape[0], -1))\n",
    "    X_val = np.reshape(X_val, (X_val.shape[0], -1))\n",
    "    X_test = np.reshape(X_test, (X_test.shape[0], -1))\n",
    "    X_dev = np.reshape(X_dev, (X_dev.shape[0], -1))\n",
    "    \n",
    "    # Normalize the data: subtract the mean image\n",
    "    mean_image = np.mean(X_train, axis = 0)\n",
    "    X_train -= mean_image\n",
    "    X_val -= mean_image\n",
    "    X_test -= mean_image\n",
    "    X_dev -= mean_image\n",
    "    \n",
    "    # add bias dimension and transform into columns\n",
    "    X_train = np.hstack([X_train, np.ones((X_train.shape[0], 1))])\n",
    "    X_val = np.hstack([X_val, np.ones((X_val.shape[0], 1))])\n",
    "    X_test = np.hstack([X_test, np.ones((X_test.shape[0], 1))])\n",
    "    X_dev = np.hstack([X_dev, np.ones((X_dev.shape[0], 1))])\n",
    "    \n",
    "    return X_train, y_train, X_val, y_val, X_test, y_test, X_dev, y_dev\n",
    "\n",
    "\n",
    "# Invoke the above function to get our data.\n",
    "X_train, y_train, X_val, y_val, X_test, y_test, X_dev, y_dev = get_CIFAR10_data()\n",
    "print('Train data shape: ', X_train.shape)\n",
    "print('Train labels shape: ', y_train.shape)\n",
    "print('Validation data shape: ', X_val.shape)\n",
    "print('Validation labels shape: ', y_val.shape)\n",
    "print('Test data shape: ', X_test.shape)\n",
    "print('Test labels shape: ', y_test.shape)\n",
    "print('dev data shape: ', X_dev.shape)\n",
    "print('dev labels shape: ', y_dev.shape)"
   ]
  },
  {
   "cell_type": "markdown",
   "metadata": {},
   "source": [
    "## Softmax Classifier\n",
    "\n",
    "Your code for this section will all be written inside **cs231n/classifiers/softmax.py**. \n"
   ]
  },
  {
   "cell_type": "code",
   "execution_count": 86,
   "metadata": {},
   "outputs": [
    {
     "name": "stdout",
     "output_type": "stream",
     "text": [
      "loss: 2.367161\n",
      "sanity check: 2.302585\n"
     ]
    }
   ],
   "source": [
    "# First implement the naive softmax loss function with nested loops.\n",
    "# Open the file cs231n/classifiers/softmax.py and implement the\n",
    "# softmax_loss_naive function.\n",
    "\n",
    "from cs231n.classifiers.softmax import softmax_loss_naive\n",
    "import time\n",
    "\n",
    "# Generate a random softmax weight matrix and use it to compute the loss.\n",
    "W = np.random.randn(3073, 10) * 0.0001\n",
    "loss, grad = softmax_loss_naive(W, X_dev, y_dev, 0.0)\n",
    "\n",
    "# As a rough sanity check, our loss should be something close to -log(0.1).\n",
    "print('loss: %f' % loss)\n",
    "print('sanity check: %f' % (-np.log(0.1)))"
   ]
  },
  {
   "cell_type": "markdown",
   "metadata": {},
   "source": [
    "## Inline Question 1:\n",
    "Why do we expect our loss to be close to -log(0.1)? Explain briefly.**\n",
    "\n",
    "**Your answer:** *Fill this in*\n"
   ]
  },
  {
   "cell_type": "code",
   "execution_count": 95,
   "metadata": {},
   "outputs": [
    {
     "name": "stdout",
     "output_type": "stream",
     "text": [
      "numerical: 0.707991 analytic: 0.707914, relative error: 5.440095e-05\n",
      "numerical: -0.099213 analytic: -0.098995, relative error: 1.101385e-03\n",
      "numerical: 4.065881 analytic: 4.065800, relative error: 9.973296e-06\n",
      "numerical: -0.063400 analytic: -0.063469, relative error: 5.434146e-04\n",
      "numerical: -2.719112 analytic: -2.719268, relative error: 2.869465e-05\n",
      "numerical: 1.869294 analytic: 1.868994, relative error: 8.036452e-05\n",
      "numerical: -1.694886 analytic: -1.694973, relative error: 2.554704e-05\n",
      "numerical: 2.859694 analytic: 2.859900, relative error: 3.597587e-05\n",
      "numerical: 3.023356 analytic: 3.023397, relative error: 6.652556e-06\n",
      "numerical: -1.156305 analytic: -1.156163, relative error: 6.144127e-05\n"
     ]
    }
   ],
   "source": [
    "# Complete the implementation of softmax_loss_naive and implement a (naive)\n",
    "# version of the gradient that uses nested loops.\n",
    "loss, grad = softmax_loss_naive(W, X_dev, y_dev, 0.0)\n",
    "\n",
    "# As we did for the SVM, use numeric gradient checking as a debugging tool.\n",
    "# The numeric gradient should be close to the analytic gradient.\n",
    "from cs231n.gradient_check import grad_check_sparse\n",
    "f = lambda w: softmax_loss_naive(w, X_dev, y_dev, 0.0)[0]\n",
    "grad_numerical = grad_check_sparse(f, W, grad, 10)\n",
    "\n",
    "#similar to SVM case, do another gradient check with regularization\n",
    "#loss, grad = softmax_loss_naive(W, X_dev, y_dev, 5e1)\n",
    "#f = lambda w: softmax_loss_naive(w, X_dev, y_dev, 5e1)[0]\n",
    "#grad_numerical = grad_check_sparse(f, W, grad, 10)"
   ]
  },
  {
   "cell_type": "code",
   "execution_count": 96,
   "metadata": {},
   "outputs": [
    {
     "name": "stdout",
     "output_type": "stream",
     "text": [
      "naive loss: 2.367469e+00 computed in 0.039924s\n",
      "vectorized loss: 2.367161e+00 computed in 0.010780s\n",
      "Gradient difference: 0.000000\n"
     ]
    }
   ],
   "source": [
    "# Now that we have a naive implementation of the softmax loss function and its gradient,\n",
    "# implement a vectorized version in softmax_loss_vectorized.\n",
    "# The two versions should compute the same results, but the vectorized version should be\n",
    "# much faster.\n",
    "tic = time.time()\n",
    "loss_naive, grad_naive = softmax_loss_naive(W, X_dev, y_dev, 0.000005)\n",
    "toc = time.time()\n",
    "print('naive loss: %e computed in %fs' % (loss_naive, toc - tic))\n",
    "\n",
    "from cs231n.classifiers.softmax import softmax_loss_vectorized\n",
    "tic = time.time()\n",
    "loss_vectorized, grad_vectorized = softmax_loss_vectorized(W, X_dev, y_dev, 0.000005)\n",
    "toc = time.time()\n",
    "print('vectorized loss: %e computed in %fs' % (loss_vectorized, toc - tic))\n",
    "\n",
    "# As we did for the SVM, we use the Frobenius norm to compare the two versions\n",
    "# of the gradient.\n",
    "grad_difference = np.linalg.norm(grad_naive - grad_vectorized, ord='fro')\n",
    "#print('Loss difference: %f' % np.abs(loss_naive - loss_vectorized))\n",
    "print('Gradient difference: %f' % grad_difference)"
   ]
  },
  {
   "cell_type": "code",
   "execution_count": null,
   "metadata": {},
   "outputs": [
    {
     "name": "stdout",
     "output_type": "stream",
     "text": [
      "1e-08 500.0\n",
      "iteration 0 / 1500: loss 20.648635\n",
      "iteration 100 / 1500: loss 20.267908\n",
      "iteration 200 / 1500: loss 20.132978\n",
      "iteration 300 / 1500: loss 20.171096\n",
      "iteration 400 / 1500: loss 19.804772\n",
      "iteration 500 / 1500: loss 19.846428\n",
      "iteration 600 / 1500: loss 19.465144\n",
      "iteration 700 / 1500: loss 19.599666\n",
      "iteration 800 / 1500: loss 19.110033\n",
      "iteration 900 / 1500: loss 19.256287\n",
      "iteration 1000 / 1500: loss 18.822656\n",
      "iteration 1100 / 1500: loss 19.089189\n",
      "iteration 1200 / 1500: loss 18.855147\n",
      "iteration 1300 / 1500: loss 19.313843\n",
      "iteration 1400 / 1500: loss 18.967862\n",
      "1e-08 1000.0\n",
      "iteration 0 / 1500: loss 33.768254\n",
      "iteration 100 / 1500: loss 33.929301\n",
      "iteration 200 / 1500: loss 33.440527\n",
      "iteration 300 / 1500: loss 33.520041\n",
      "iteration 400 / 1500: loss 33.015824\n",
      "iteration 500 / 1500: loss 32.981583\n",
      "iteration 600 / 1500: loss 33.055943\n",
      "iteration 700 / 1500: loss 32.779865\n",
      "iteration 800 / 1500: loss 32.814817\n",
      "iteration 900 / 1500: loss 32.471683\n",
      "iteration 1000 / 1500: loss 32.357024\n",
      "iteration 1100 / 1500: loss 32.414136\n",
      "iteration 1200 / 1500: loss 32.102220\n",
      "iteration 1300 / 1500: loss 31.944812\n",
      "iteration 1400 / 1500: loss 31.899827\n",
      "1e-08 10000.0\n",
      "iteration 0 / 1500: loss 286.211555\n",
      "iteration 100 / 1500: loss 275.052223\n",
      "iteration 200 / 1500: loss 264.390547\n",
      "iteration 300 / 1500: loss 254.397655\n",
      "iteration 400 / 1500: loss 244.307876\n",
      "iteration 500 / 1500: loss 234.555753\n",
      "iteration 600 / 1500: loss 225.350910\n",
      "iteration 700 / 1500: loss 216.715515\n",
      "iteration 800 / 1500: loss 208.186491\n",
      "iteration 900 / 1500: loss 199.983360\n",
      "iteration 1000 / 1500: loss 192.214055\n",
      "iteration 1100 / 1500: loss 184.683767\n",
      "iteration 1200 / 1500: loss 177.536761\n",
      "iteration 1300 / 1500: loss 170.390688\n",
      "iteration 1400 / 1500: loss 163.916355\n",
      "1e-08 50000.0\n",
      "iteration 0 / 1500: loss 777.534749\n",
      "iteration 100 / 1500: loss 636.840213\n",
      "iteration 200 / 1500: loss 521.680381\n",
      "iteration 300 / 1500: loss 427.321068\n",
      "iteration 400 / 1500: loss 350.210996\n",
      "iteration 500 / 1500: loss 287.014828\n",
      "iteration 600 / 1500: loss 235.304275\n",
      "iteration 700 / 1500: loss 192.795495\n",
      "iteration 800 / 1500: loss 158.295717\n",
      "iteration 900 / 1500: loss 130.059294\n",
      "iteration 1000 / 1500: loss 106.784135\n",
      "iteration 1100 / 1500: loss 87.829156\n",
      "iteration 1200 / 1500: loss 72.255259\n",
      "iteration 1300 / 1500: loss 59.556475\n",
      "iteration 1400 / 1500: loss 49.069346\n",
      "1e-07 500.0\n",
      "iteration 0 / 1500: loss 2.429800\n",
      "iteration 100 / 1500: loss 2.341431\n",
      "iteration 200 / 1500: loss 2.360025\n",
      "iteration 300 / 1500: loss 2.364409\n",
      "iteration 400 / 1500: loss 2.239672\n",
      "iteration 500 / 1500: loss 2.277627\n",
      "iteration 600 / 1500: loss 2.228395\n",
      "iteration 700 / 1500: loss 2.244713\n",
      "iteration 800 / 1500: loss 2.295319\n",
      "iteration 900 / 1500: loss 2.174052\n",
      "iteration 1000 / 1500: loss 2.257245\n",
      "iteration 1100 / 1500: loss 2.070614\n",
      "iteration 1200 / 1500: loss 2.076207\n",
      "iteration 1300 / 1500: loss 2.028439\n",
      "iteration 1400 / 1500: loss 2.067045\n"
     ]
    }
   ],
   "source": [
    "# Use the validation set to tune hyperparameters (regularization strength and\n",
    "# learning rate). You should experiment with different ranges for the learning\n",
    "# rates and regularization strengths; if you are careful you should be able to\n",
    "# get a classification accuracy of over 0.35 on the validation set.\n",
    "from cs231n.classifiers import Softmax\n",
    "results = {}\n",
    "best_val = -1\n",
    "best_softmax = None\n",
    "learning_rates = [1e-8, 1e-7, 5e-7, 1e-6]\n",
    "regularization_strengths = [5e2, 1e3, 1e4, 5e4]\n",
    "\n",
    "\n",
    "################################################################################\n",
    "# TODO:                                                                        #\n",
    "# Use the validation set to set the learning rate and regularization strength. #\n",
    "# This should be identical to the validation that you did for the SVM; save    #\n",
    "# the best trained softmax classifer in best_softmax.                          #\n",
    "################################################################################\n",
    "soft = Softmax()\n",
    "for i in learning_rates:\n",
    "    for j in regularization_strengths:\n",
    "        print(i,j)\n",
    "       \n",
    "        train_loss_hist = soft.train(X_train, y_train, learning_rate=i, reg=j,num_iters=1500, verbose=True)\n",
    "        y_train_pred = soft.predict(X_train)\n",
    "        train_acc = np.mean(y_train == y_train_pred)\n",
    "        #print(X_train.shape,y_train.shape)\n",
    "        #print(X_val.shape,y_val.shape)\n",
    "        y_val_pred = soft.predict(X_val)\n",
    "        val_acc = np.mean(y_val == y_val_pred)\n",
    "        lr      = i\n",
    "        reg     = j\n",
    "        results[(lr,reg)] =train_acc,val_acc\n",
    "        if(val_acc>best_val):\n",
    "            best_val =val_acc\n",
    "            best_softmax = soft\n",
    "################################################################################\n",
    "#                              END OF YOUR CODE                                #\n",
    "################################################################################\n",
    "    \n",
    "# Print out results.\n",
    "for lr, reg in sorted(results):\n",
    "    train_accuracy, val_accuracy = results[(lr, reg)]\n",
    "    print('lr %e reg %e train accuracy: %f val accuracy: %f' % (\n",
    "                lr, reg, train_accuracy, val_accuracy))\n",
    "    \n",
    "print('best validation accuracy achieved during cross-validation: %f' % best_val)"
   ]
  },
  {
   "cell_type": "code",
   "execution_count": null,
   "metadata": {},
   "outputs": [],
   "source": [
    "# evaluate on test set\n",
    "# Evaluate the best softmax on test set\n",
    "y_test_pred = best_softmax.predict(X_test)\n",
    "test_accuracy = np.mean(y_test == y_test_pred)\n",
    "print('softmax on raw pixels final test set accuracy: %f' % (test_accuracy, ))"
   ]
  },
  {
   "cell_type": "code",
   "execution_count": null,
   "metadata": {},
   "outputs": [],
   "source": [
    "# Visualize the learned weights for each class\n",
    "w = best_softmax.W[:-1,:] # strip out the bias\n",
    "w = w.reshape(32, 32, 3, 10)\n",
    "\n",
    "w_min, w_max = np.min(w), np.max(w)\n",
    "\n",
    "classes = ['plane', 'car', 'bird', 'cat', 'deer', 'dog', 'frog', 'horse', 'ship', 'truck']\n",
    "for i in range(10):\n",
    "    plt.subplot(2, 5, i + 1)\n",
    "    \n",
    "    # Rescale the weights to be between 0 and 255\n",
    "    wimg = 255.0 * (w[:, :, :, i].squeeze() - w_min) / (w_max - w_min)\n",
    "    plt.imshow(wimg.astype('uint8'))\n",
    "    plt.axis('off')\n",
    "    plt.title(classes[i])"
   ]
  }
 ],
 "metadata": {
  "kernelspec": {
   "display_name": "Python (my_env35)",
   "language": "python",
   "name": "my_env35"
  },
  "language_info": {
   "codemirror_mode": {
    "name": "ipython",
    "version": 3
   },
   "file_extension": ".py",
   "mimetype": "text/x-python",
   "name": "python",
   "nbconvert_exporter": "python",
   "pygments_lexer": "ipython3",
   "version": "3.5.0"
  }
 },
 "nbformat": 4,
 "nbformat_minor": 1
}
